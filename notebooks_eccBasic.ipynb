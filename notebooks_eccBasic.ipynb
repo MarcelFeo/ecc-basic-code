{
  "metadata": {
    "language_info": {
      "codemirror_mode": {
        "name": "python",
        "version": 3
      },
      "file_extension": ".py",
      "mimetype": "text/x-python",
      "name": "python",
      "nbconvert_exporter": "python",
      "pygments_lexer": "ipython3",
      "version": "3.8"
    },
    "kernelspec": {
      "name": "python",
      "display_name": "Python (Pyodide)",
      "language": "python"
    }
  },
  "nbformat_minor": 4,
  "nbformat": 4,
  "cells": [
    {
      "cell_type": "code",
      "source": "INF_POINT = None\n\nclass EllipticCurve:\n    def __init__(self, a, b, p):\n        self.a = a\n        self.b = b\n        self.p = p\n        self.points = []\n        self.definePoints() # Define os pontos que satisfazem a equação da curva elipitca\n    \n    def definePoints(self):\n         self.points.append(INF_POINT)\n         for x in range(self.p):\n            for y in range(self.p):\n                if self.equal_modp(y*y, x*x*x + self.a * x + self.b):\n                    self.points.append((x, y)) \n                    \n    def print_points(self):\n        print(self.points)\n        \n    def number_points(self):\n        return len(self.points)\n    \n    def reduce_modp(self, x):\n        return x % self.p\n    \n    def equal_modp(self, x, y):\n        return self.reduce_modp(x - y) == 0\n    \n    def inverse_modp(self, x):\n        if self.reduce_modp(x) == 0:\n            return None\n        return pow(x, p-2, p)\n    \n    # Operações\n    \n    def add(self, P1, P2):\n        if P1 == INF_POINT:\n            return P2\n        if P2 == INF_POINT:\n            return P1\n        \n        x1 = P1[0]\n        x2 = P2[0]\n        y1 = P1[1]\n        y2 = P2[1]\n        \n        if self.equal_modp(x1, x2) and self.equal_modp(y1, -y2):\n            return INF_POINT\n        \n        if self.equal_modp(x1, x2) and self.equal_modp(y1, y2):\n            m = self.reduce_modp((3 * x1 * x2 + self.a) * self.inverse_modp(2 * y1))\n        else:\n            m = self.reduce_modp((y1 - y2) * self.inverse_modp(x1*x2))\n            \n        v = self.reduce_modp(y1 - m * x1)\n        x3 = self.reduce_modp(m*m - x1 - x2)\n        y3 = self.reduce_modp(-m * x3 - v)\n        \n        return (x3, y3)\n    \n    def test_associativity(self):\n        n = len(self.points)\n        for i in range (n):\n            for j in range (n):\n                for k in range (n):\n                    p = self.add(self.points[i], self.add(self.points[j], self.points[k]))\n                    q = self.add(self.add(self.points[i], self.points[j]), self.points[k])\n                    if p != q:\n                        return False\n        return True\n    \n    def mul(self, k, P):\n        Q = INF_POINT\n        if k == 0:\n            return Q\n        while k != 0:\n            if k & 1 != 0:\n                Q = self.add(Q, P)\n            P = self.add(P, P)\n            k >>= 1\n        return Q\n    \n    def is_point_on_curve(self, x, y):\n        return self.equal_modp(y*y, x*x*x + self.a * x + self.b)\n        ",
      "metadata": {
        "trusted": true
      },
      "execution_count": null,
      "outputs": []
    },
    {
      "cell_type": "code",
      "source": "# CURVE SECP256k1\nprime = 2**256 - 2**32 - 977\nec = EllipticCurve(0, 7, prime)\nec.print_points()\nprint(ec.number_points())",
      "metadata": {
        "trusted": true
      },
      "execution_count": null,
      "outputs": []
    },
    {
      "cell_type": "code",
      "source": "ec = EllipticCurve(2, 7, 19)\nec.print_points()\nprint(ec.number_points())",
      "metadata": {
        "trusted": true
      },
      "execution_count": null,
      "outputs": []
    },
    {
      "cell_type": "code",
      "source": "p = ec.add(ec.points[5], ec.points[14])\nprint(p)",
      "metadata": {
        "trusted": true
      },
      "execution_count": null,
      "outputs": []
    },
    {
      "cell_type": "code",
      "source": "p = 26959946667150639794667015087019630673557916260026308143510066298881\na = -3\nb = 18958286285566608000408668544493926415504680968679321075787234672564\n\nP224 = EllipticCurve(p, a, b)\n\nGx = 19277929113566293071110308034699488026831934219452440156649784352033\nGy = 19926808758034470970197974370888749184205991990603949537637343198772\nG = (Gx, Gy)",
      "metadata": {
        "trusted": true
      },
      "execution_count": null,
      "outputs": []
    },
    {
      "cell_type": "code",
      "source": "print(P224.is_point_on_curve(Gx, Gy))",
      "metadata": {
        "trusted": true
      },
      "execution_count": null,
      "outputs": []
    },
    {
      "cell_type": "code",
      "source": "Q = P224.multiple(1, G)\nprint(Q == G)",
      "metadata": {
        "trusted": true
      },
      "execution_count": null,
      "outputs": []
    },
    {
      "cell_type": "code",
      "source": "n = 26959946667150639794667015087019625940457807714424391721682722368061\n\nQ = P224.multiple(n - 1, G)\nprint(Q)\nprint(P224.is_point_on_curve(Q[0], Q[1]))\n\nQ = P224.multiple(n, G)\nprint(Q == INF_POINT)",
      "metadata": {
        "trusted": true
      },
      "execution_count": null,
      "outputs": []
    }
  ]
}